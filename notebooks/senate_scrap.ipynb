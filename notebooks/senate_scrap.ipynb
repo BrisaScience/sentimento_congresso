{
 "cells": [
  {
   "cell_type": "markdown",
   "metadata": {},
   "source": [
    "# Brazilian senate minutes scraping\n",
    "\n",
    "*Author: Danilo Lessa Bernardineli (danilo.bernardineli@usp.br)*"
   ]
  },
  {
   "cell_type": "code",
   "execution_count": 1,
   "metadata": {},
   "outputs": [],
   "source": [
    "import requests as req\n",
    "import re\n",
    "import os\n",
    "from pathlib import Path\n",
    "\n",
    "from tqdm.notebook import tqdm\n",
    "from unidecode import unidecode\n",
    "from bs4 import BeautifulSoup"
   ]
  },
  {
   "cell_type": "code",
   "execution_count": 2,
   "metadata": {},
   "outputs": [],
   "source": [
    "BASE_URI = 'http://www.senado.leg.br/publicacoes/anais'\n",
    "SOURCE_URIS = ['http://www.senado.leg.br/publicacoes/anais/asp/IP_AnaisImperio_digitalizados.asp',\n",
    "               'http://www.senado.leg.br/publicacoes/anais/asp/RP_AnaisRepublica.asp']\n",
    "OUTPUT_PATH = \"../working_dir/scrap/senate/\""
   ]
  },
  {
   "cell_type": "code",
   "execution_count": 3,
   "metadata": {},
   "outputs": [],
   "source": [
    "elements = []\n",
    "for uri in SOURCE_URIS:\n",
    "    r = req.get(uri)\n",
    "    r.encoding = r.apparent_encoding\n",
    "    soup = BeautifulSoup(r.text)\n",
    "    soup_items = soup.select('#conteudoPrincipal > div:nth-child(3) > div  li')\n",
    "    elements += soup_items"
   ]
  },
  {
   "cell_type": "code",
   "execution_count": 4,
   "metadata": {},
   "outputs": [],
   "source": [
    "def clean_link_text(string: str) -> str:\n",
    "    return unidecode(string.lower().replace(\" \", \"_\"))\n",
    "\n",
    "link_dict = {}\n",
    "for bullet in elements:\n",
    "    bullet_text = bullet.find(text=True, recursive=False).strip()\n",
    "    year = int(re.sub('\\D', '', bullet_text))\n",
    "    links = {clean_link_text(link.text): link['href'].replace(\"..\", BASE_URI)\n",
    "             for link in bullet.select('a')}\n",
    "    link_dict[year] = links"
   ]
  },
  {
   "cell_type": "code",
   "execution_count": 5,
   "metadata": {},
   "outputs": [],
   "source": [
    "download_map = {\"{}_{}.pdf\".format(year, label): uri\n",
    "                for year, files in link_dict.items()\n",
    "                for label, uri in files.items()}"
   ]
  },
  {
   "cell_type": "code",
   "execution_count": null,
   "metadata": {},
   "outputs": [
    {
     "data": {
      "application/vnd.jupyter.widget-view+json": {
       "model_id": "7b9fe722357a46e785fcf8cab3aceba7",
       "version_major": 2,
       "version_minor": 0
      },
      "text/plain": [
       "HBox(children=(FloatProgress(value=0.0, max=2116.0), HTML(value='')))"
      ]
     },
     "metadata": {},
     "output_type": "display_data"
    }
   ],
   "source": [
    "for filename, uri in tqdm(download_map.items()):\n",
    "    filepath = Path(OUTPUT_PATH, filename)\n",
    "    content = req.get(uri).content\n",
    "    with open(filepath, 'wb') as fid:\n",
    "        fid.write(content)"
   ]
  },
  {
   "cell_type": "code",
   "execution_count": null,
   "metadata": {},
   "outputs": [],
   "source": []
  }
 ],
 "metadata": {
  "kernelspec": {
   "display_name": "Python 3",
   "language": "python",
   "name": "python3"
  },
  "language_info": {
   "codemirror_mode": {
    "name": "ipython",
    "version": 3
   },
   "file_extension": ".py",
   "mimetype": "text/x-python",
   "name": "python",
   "nbconvert_exporter": "python",
   "pygments_lexer": "ipython3",
   "version": "3.7.5"
  }
 },
 "nbformat": 4,
 "nbformat_minor": 4
}
